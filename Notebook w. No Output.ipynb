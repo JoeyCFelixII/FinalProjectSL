{
 "cells": [
  {
   "cell_type": "markdown",
   "id": "4c493cb6",
   "metadata": {
    "hide_input": true
   },
   "source": [
    "# What is the Project?\n",
    "- This project is a regression analysis with the goal of prediction on the 3 major powerlifting lifts: Squats, Deadlifts, and Bench Press. \n",
    "- To accomplish this goal, first the dataset will be cleaned, and then 3 seperate models will be created for each lift. I will use Linear Regression as a baseline, and then create Random Forest models to see if those perform better.  \n",
    "- As a powerlifter myself, though not a competitive one, it would be really neat to see if it's possible to build an accurate model for powerlifting."
   ]
  },
  {
   "cell_type": "markdown",
   "id": "6fb0436b",
   "metadata": {},
   "source": [
    "### Dataset Citation - MLA\n",
    "\n",
    "“OpenPowerlifting Group / Openpowerlifting · GITLAB.” GitLab, https://gitlab.com/openpowerlifting/opl-data. \n",
    "\n",
    "Dm, H. “Powerlifting Dataset.” Kaggle, 11 Apr. 2023, https://www.kaggle.com/datasets/docgenki/powerlifting-dataset. "
   ]
  },
  {
   "cell_type": "markdown",
   "id": "27ee93fe",
   "metadata": {},
   "source": [
    "# About the Dataset\n",
    "\n",
    "This dataset is from The OpenPowerlifting Project on Gitlab. It is a free open source dataset that includes 41 features on powerlifting, with some being demographic information, recorded lifts, and the scoring metrics on those lifts. \n",
    "- The dataset has 17 categorical features and 24 numerical features\n",
    "- The most key information for my analysis is the best lift for deadlift, squat, and bench press. The demographic information will also be very helpful. \n",
    "- There are over 2,000,000 records in this dataset."
   ]
  },
  {
   "cell_type": "code",
   "execution_count": null,
   "id": "66f4c5ea",
   "metadata": {},
   "outputs": [],
   "source": [
    "# Import necessary packages\n",
    "import pandas as pd\n",
    "import numpy as np\n",
    "import matplotlib.pyplot as plt\n",
    "import math\n",
    "import seaborn as sns\n",
    "import statsmodels.formula.api as smf\n",
    "import statsmodels.api as sm"
   ]
  },
  {
   "cell_type": "code",
   "execution_count": null,
   "id": "27eb2d65",
   "metadata": {},
   "outputs": [],
   "source": [
    "# Read in data\n",
    "liftdata = pd.read_csv('openpowerlifting_data.csv', header = 0, low_memory = False)"
   ]
  },
  {
   "cell_type": "code",
   "execution_count": null,
   "id": "20633649",
   "metadata": {},
   "outputs": [],
   "source": [
    "print(liftdata.dtypes)"
   ]
  },
  {
   "cell_type": "markdown",
   "id": "38e986d8",
   "metadata": {},
   "source": [
    "## Removing non-useful columns for analysis\n",
    "- Having prior knowledge of powerlifting allows me to remove some columns that would inherently cause overfitting.\n",
    "- Dots, Wilks, Glossbrenner, and Goodlift are all scores applied to lifts that have been completed. These should be removed.\n",
    "- Place fits the same idea, as the lifters are only placed after the competition portion is over.\n",
    "- Since the goal is predicting the best lift, the individual lift results can be removed for each of the 3 major lifts.\n",
    "- Name can also be removed, and TotalKg as well since this is a summation of the 3 lifts."
   ]
  },
  {
   "cell_type": "code",
   "execution_count": null,
   "id": "1bf47835",
   "metadata": {},
   "outputs": [],
   "source": [
    "drop = ['Name', 'Squat1Kg','Squat2Kg', 'Squat3Kg', 'Squat4Kg', 'Bench1Kg','Bench2Kg', 'Bench3Kg', 'Bench4Kg', 'Deadlift1Kg', 'Deadlift2Kg','Deadlift3Kg', 'Deadlift4Kg', 'TotalKg', 'Place', 'Dots', 'Wilks', 'Glossbrenner', 'Goodlift']\n",
    "liftdata = liftdata.drop(drop, axis = 1)"
   ]
  },
  {
   "cell_type": "code",
   "execution_count": null,
   "id": "21b30e5b",
   "metadata": {},
   "outputs": [],
   "source": [
    "liftdata.info()"
   ]
  },
  {
   "cell_type": "code",
   "execution_count": null,
   "id": "d7fd5b29",
   "metadata": {},
   "outputs": [],
   "source": [
    "a = [np.nan, None, [], {}, 'NaN', 'Null','NULL','None','NA','?','-', '.','', ' ', '   ']\n",
    "\n",
    "for c in liftdata.columns:\n",
    "    string_null = np.array([x in a[2:] for x in liftdata[c]])\n",
    "    print(c, liftdata[c].isnull().sum(), string_null.sum()) \n",
    "    \n",
    "# Check Null Values"
   ]
  },
  {
   "cell_type": "code",
   "execution_count": null,
   "id": "cbd13661",
   "metadata": {},
   "outputs": [],
   "source": [
    "# After looking at the null data, it is very apparent that \"State\" has far too many null values.\n",
    "\n",
    "# Further looking at the data, AgeClass, BirthYearClass, and WeightClassKg are redundant when we have Age and BodyweightKg.\n",
    "\n",
    "liftdata = liftdata.drop(['State', 'AgeClass', 'BirthYearClass', 'WeightClassKg'], axis = 1)"
   ]
  },
  {
   "cell_type": "code",
   "execution_count": null,
   "id": "b0af4a48",
   "metadata": {},
   "outputs": [],
   "source": [
    "# One feature also needs to undergo feature engineering, because it is actually a yes/no column, except no is left blank.\n",
    "\n",
    "liftdata['Tested'] = liftdata['Tested'].fillna('No')\n",
    "\n",
    "liftdata.Tested.replace(('Yes', 'No'), (1, 0), inplace=True)\n",
    "\n",
    "liftdata.head()\n",
    "\n",
    "# recheck null values\n",
    "\n",
    "for c in liftdata.columns:\n",
    "    string_null = np.array([x in a[2:] for x in liftdata[c]])\n",
    "    print(c, liftdata[c].isnull().sum(), string_null.sum()) "
   ]
  },
  {
   "cell_type": "code",
   "execution_count": null,
   "id": "33807698",
   "metadata": {},
   "outputs": [],
   "source": [
    "liftdata.corr()"
   ]
  },
  {
   "cell_type": "markdown",
   "id": "08c65cd3",
   "metadata": {},
   "source": [
    "### Correlation Matrix\n",
    "\n",
    "- This affirms the original idea that 3 models should be made once the data is fully cleaned, since each of the lifts are closely correlated to each other. \n",
    "- Bodyweight also appears closely correlated, but this is expected as lifters who weigh more typically lift more as well."
   ]
  },
  {
   "cell_type": "code",
   "execution_count": null,
   "id": "e63eec26",
   "metadata": {},
   "outputs": [],
   "source": [
    "# At this point, we've removed unneccessary features, so now should drop rows with NA values IF that will not reduce the dataset too far.\n",
    "# We will try dropNA first, and re-evaluate if needed.\n",
    "\n",
    "liftdata1 = liftdata.dropna()"
   ]
  },
  {
   "cell_type": "code",
   "execution_count": null,
   "id": "55545dd3",
   "metadata": {},
   "outputs": [],
   "source": [
    "for c in liftdata1.columns:\n",
    "    string_null = np.array([x in a[2:] for x in liftdata1[c]])\n",
    "    print(c, liftdata1[c].isnull().sum(), string_null.sum()) "
   ]
  },
  {
   "cell_type": "code",
   "execution_count": null,
   "id": "136515cb",
   "metadata": {},
   "outputs": [],
   "source": [
    "liftdata1.info()"
   ]
  },
  {
   "cell_type": "markdown",
   "id": "7f35a80e",
   "metadata": {},
   "source": [
    "# Problems?\n",
    "- This is actually incorrect for using in a final dataset, but it does tell me that dropna will be fine.\n",
    "- It is incorrect because the data first needs to be split into the 3 seperate lifts prior to dropping NA values.\n",
    "- Doing this before eliminates useful information and only focuses on lifters who competed in all 3 lifts.\n",
    "- In this dataset athletes who failed a lift are assigned a negative value. This should be adjusted to 0 since a negative lift is not possible."
   ]
  },
  {
   "cell_type": "code",
   "execution_count": null,
   "id": "55d67d12",
   "metadata": {},
   "outputs": [],
   "source": [
    "squatdata = liftdata.drop(['Best3BenchKg', 'Best3DeadliftKg'], axis = 1)\n",
    "benchdata = liftdata.drop(['Best3SquatKg', 'Best3DeadliftKg'], axis = 1)\n",
    "deadliftdata = liftdata.drop(['Best3BenchKg', 'Best3SquatKg'], axis = 1)"
   ]
  },
  {
   "cell_type": "code",
   "execution_count": null,
   "id": "f8cd83fe",
   "metadata": {},
   "outputs": [],
   "source": [
    "squatdata = squatdata.dropna()\n",
    "benchdata = benchdata.dropna()\n",
    "deadliftdata = deadliftdata.dropna()"
   ]
  },
  {
   "cell_type": "code",
   "execution_count": null,
   "id": "1cfb69b9",
   "metadata": {},
   "outputs": [],
   "source": [
    "squatdata['Best3SquatKg'].mask(squatdata['Best3SquatKg'] < 0 , 0 , inplace=True)\n",
    "\n",
    "\n",
    "benchdata['Best3BenchKg'].mask(benchdata['Best3BenchKg'] < 0 , 0, inplace=True)\n",
    "\n",
    "\n",
    "deadliftdata['Best3DeadliftKg'].mask(deadliftdata['Best3DeadliftKg'] < 0 , 0 , inplace=True)"
   ]
  },
  {
   "cell_type": "code",
   "execution_count": null,
   "id": "2b691fa5",
   "metadata": {},
   "outputs": [],
   "source": [
    "# Age has a problem, and actually looking into the data it looks like many ages below 10 are misclassified, so those will just be removed.\n",
    "\n",
    "squatdata['Age'].mask(squatdata['Age'] < 10 , None , inplace=True)\n",
    "squatdata = squatdata.dropna()\n",
    "\n",
    "benchdata['Age'].mask(benchdata['Age'] < 10 , None , inplace=True)\n",
    "benchdata = benchdata.dropna()\n",
    "\n",
    "deadliftdata['Age'].mask(deadliftdata['Age'] < 10 , None , inplace=True)\n",
    "deadliftdata = deadliftdata.dropna()"
   ]
  },
  {
   "cell_type": "code",
   "execution_count": null,
   "id": "3b0418c9",
   "metadata": {},
   "outputs": [],
   "source": [
    "squatdata.info()"
   ]
  },
  {
   "cell_type": "code",
   "execution_count": null,
   "id": "f2c58d40",
   "metadata": {},
   "outputs": [],
   "source": [
    "benchdata.info()"
   ]
  },
  {
   "cell_type": "code",
   "execution_count": null,
   "id": "9b5bb809",
   "metadata": {},
   "outputs": [],
   "source": [
    "deadliftdata.info()"
   ]
  },
  {
   "cell_type": "code",
   "execution_count": null,
   "id": "a9cde245",
   "metadata": {},
   "outputs": [],
   "source": [
    "from sklearn.model_selection import train_test_split\n",
    "S1 = squatdata\n",
    "B1 = benchdata\n",
    "D1 = deadliftdata"
   ]
  },
  {
   "cell_type": "code",
   "execution_count": null,
   "id": "45cf030c",
   "metadata": {},
   "outputs": [],
   "source": [
    "# Creating test/train splits\n",
    "\n",
    "S1_train, S1_test = train_test_split(S1, test_size = 0.2, train_size = 0.8, random_state = 5)\n",
    "B1_train, B1_test = train_test_split(B1, test_size = 0.2, train_size = 0.8, random_state = 5)\n",
    "D1_train, D1_test = train_test_split(D1, test_size = 0.2, train_size = 0.8, random_state = 5)"
   ]
  },
  {
   "cell_type": "code",
   "execution_count": null,
   "id": "1060bd1f",
   "metadata": {},
   "outputs": [],
   "source": [
    "# Confirm accuracy of test/train splits\n",
    "\n",
    "print(len(S1_train) + len(S1_test) == len(S1))\n",
    "print(len(B1_train) + len(B1_test) == len(B1))\n",
    "print(len(D1_train) + len(D1_test) == len(D1))"
   ]
  },
  {
   "cell_type": "markdown",
   "id": "e09739d1",
   "metadata": {},
   "source": [
    "# Selecting Features\n",
    "- Initially, it should be valid to create a linear model with all features and remove the insignificant ones; however this causes a memory error, so we will create smaller models instead.\n",
    "\n",
    "- Trying to run the models in a notebook takes over an hour, so in the interest of readability and time I will place the final model below. All other features were not statistically significant, so they would need to be removed."
   ]
  },
  {
   "cell_type": "code",
   "execution_count": null,
   "id": "31d8eda0",
   "metadata": {},
   "outputs": [],
   "source": [
    "S1model = smf.ols(formula='Best3SquatKg ~ Sex + Event + Equipment + Age + BodyweightKg + Tested', data=S1_train) \n",
    "resS = S1model.fit()\n",
    "print(resS.summary())"
   ]
  },
  {
   "cell_type": "code",
   "execution_count": null,
   "id": "50d41d12",
   "metadata": {},
   "outputs": [],
   "source": [
    "B1model = smf.ols(formula='Best3BenchKg ~ Sex + Event + Equipment + Age + BodyweightKg + Tested', data=B1_train) \n",
    "resB = B1model.fit()\n",
    "print(resB.summary())"
   ]
  },
  {
   "cell_type": "code",
   "execution_count": null,
   "id": "dfc269b0",
   "metadata": {},
   "outputs": [],
   "source": [
    "D1model = smf.ols(formula='Best3DeadliftKg ~ Sex + Event + Equipment + Age + BodyweightKg + Tested', data=D1_train) \n",
    "resD = D1model.fit()\n",
    "print(resD.summary())"
   ]
  },
  {
   "cell_type": "code",
   "execution_count": null,
   "id": "c5b848e9",
   "metadata": {},
   "outputs": [],
   "source": [
    "# Check for over levereged points, or anything else to be cleaned up.\n",
    "\n",
    "sm.graphics.plot_leverage_resid2(resS)\n",
    "plt.show()"
   ]
  },
  {
   "cell_type": "code",
   "execution_count": null,
   "id": "acd6b40e",
   "metadata": {},
   "outputs": [],
   "source": [
    "sm.graphics.plot_leverage_resid2(resB)\n",
    "plt.show()"
   ]
  },
  {
   "cell_type": "code",
   "execution_count": null,
   "id": "721aa0dd",
   "metadata": {
    "scrolled": true
   },
   "outputs": [],
   "source": [
    "sm.graphics.plot_leverage_resid2(resD)\n",
    "plt.show()"
   ]
  },
  {
   "cell_type": "markdown",
   "id": "f63adf98",
   "metadata": {},
   "source": [
    "## Leveraged Points\n",
    "- The bench model has two levereged points, but their normalized residuals are extremely small so their impact via removal is also going to be relatively small. Therefore, we will leave them in and proceed to use the test data to verify the models."
   ]
  },
  {
   "cell_type": "code",
   "execution_count": null,
   "id": "f7c5d9bd",
   "metadata": {},
   "outputs": [],
   "source": [
    "S1Tmodel = smf.ols(formula='Best3SquatKg ~ Sex + Event + Equipment + Age + BodyweightKg + Tested', data=S1_test) \n",
    "resS2T = S1Tmodel.fit()\n",
    "print(resS2T.summary())"
   ]
  },
  {
   "cell_type": "code",
   "execution_count": null,
   "id": "c641d52a",
   "metadata": {},
   "outputs": [],
   "source": [
    "B1Tmodel = smf.ols(formula='Best3BenchKg ~ Sex + Event + Equipment + Age + BodyweightKg + Tested', data=B1_test) \n",
    "resBT = B1Tmodel.fit()\n",
    "print(resBT.summary())"
   ]
  },
  {
   "cell_type": "code",
   "execution_count": null,
   "id": "3e92461e",
   "metadata": {},
   "outputs": [],
   "source": [
    "D1Tmodel = smf.ols(formula='Best3DeadliftKg ~ Sex + Event + Equipment + Age + BodyweightKg + Tested', data=D1_test) \n",
    "resDT = D1Tmodel.fit()\n",
    "print(resDT.summary())"
   ]
  },
  {
   "cell_type": "markdown",
   "id": "48ce86c5",
   "metadata": {},
   "source": [
    "The resulting $R^2$ values are very similar between the train and test data, and this is mostly unsurprising due to the sheer volume of samples.  The test data produces a very slightly lower adjusted $R^2$ value."
   ]
  },
  {
   "cell_type": "markdown",
   "id": "fbf66987",
   "metadata": {},
   "source": [
    "# Multicollinearity\n",
    "- It would be difficult to use these linear regression models to truly account for multicollinearity, but some of it is also part of the predictions.\n",
    "- Heavier lifters typically lift more, older lifters typically lift less etc."
   ]
  },
  {
   "cell_type": "markdown",
   "id": "647c2322",
   "metadata": {},
   "source": [
    "# Random Forest Model\n",
    "- This model should help the issue of multicollinearity\n",
    "- It also will hopefully provide a good basis for possible predictions."
   ]
  },
  {
   "cell_type": "code",
   "execution_count": null,
   "id": "8953888d",
   "metadata": {},
   "outputs": [],
   "source": [
    "from sklearn import tree\n",
    "from sklearn.model_selection import train_test_split\n",
    "from sklearn.ensemble import RandomForestRegressor"
   ]
  },
  {
   "cell_type": "code",
   "execution_count": null,
   "id": "61cd6000",
   "metadata": {},
   "outputs": [],
   "source": [
    "# For the Random Forest Model, I will be dropping out all the data not used in the previous regression models\n",
    "squatdata.info()"
   ]
  },
  {
   "cell_type": "code",
   "execution_count": null,
   "id": "ac146962",
   "metadata": {},
   "outputs": [],
   "source": [
    "squatdata = squatdata.drop(['Division', 'Country', 'Federation', 'ParentFederation', 'Date', 'MeetCountry', 'MeetState', 'MeetTown', 'MeetName'], axis = 1)\n",
    "benchdata = benchdata.drop(['Division', 'Country', 'Federation', 'ParentFederation', 'Date', 'MeetCountry', 'MeetState', 'MeetTown', 'MeetName'], axis = 1)\n",
    "deadliftdata = deadliftdata.drop(['Division', 'Country', 'Federation', 'ParentFederation', 'Date', 'MeetCountry', 'MeetState', 'MeetTown', 'MeetName'], axis = 1)"
   ]
  },
  {
   "cell_type": "code",
   "execution_count": null,
   "id": "9206710d",
   "metadata": {},
   "outputs": [],
   "source": [
    "squatdata.info()"
   ]
  },
  {
   "cell_type": "code",
   "execution_count": null,
   "id": "74625f9f",
   "metadata": {},
   "outputs": [],
   "source": [
    "# Need dummy vars to fit in sklearn\n",
    "squatdata = pd.get_dummies(squatdata, prefix=['Sex', 'Event', 'Equip'], columns=['Sex', 'Event', 'Equipment'])\n",
    "benchdata = pd.get_dummies(benchdata, prefix=['Sex', 'Event', 'Equip'], columns=['Sex', 'Event', 'Equipment'])\n",
    "deadliftdata = pd.get_dummies(deadliftdata, prefix=['Sex', 'Event', 'Equip'], columns=['Sex', 'Event', 'Equipment'])"
   ]
  },
  {
   "cell_type": "code",
   "execution_count": null,
   "id": "3908eb3d",
   "metadata": {},
   "outputs": [],
   "source": [
    "squatdata.info()"
   ]
  },
  {
   "cell_type": "code",
   "execution_count": null,
   "id": "b306aeb6",
   "metadata": {},
   "outputs": [],
   "source": [
    "benchdata.info()"
   ]
  },
  {
   "cell_type": "code",
   "execution_count": null,
   "id": "996995c3",
   "metadata": {},
   "outputs": [],
   "source": [
    "deadliftdata.info()"
   ]
  },
  {
   "cell_type": "code",
   "execution_count": null,
   "id": "8fb09543",
   "metadata": {},
   "outputs": [],
   "source": [
    "# Setting up feature and target variables for the 3 RF models that need to be made.\n",
    "featuresS = ['Sex_F', 'Sex_M', 'Event_S', 'Event_SB', 'Event_SBD', 'Event_SD', 'Equip_Multi-ply', 'Equip_Raw', 'Equip_Single-ply', 'Equip_Straps', 'Equip_Unlimited', 'Equip_Wraps', 'Age', 'BodyweightKg', 'Tested']\n",
    "featuresB = ['Sex_F', 'Sex_M', 'Event_B', 'Event_BD', 'Event_SBD', 'Event_SB', 'Equip_Multi-ply', 'Equip_Raw', 'Equip_Single-ply', 'Equip_Straps', 'Equip_Unlimited', 'Equip_Wraps', 'Age', 'BodyweightKg', 'Tested']\n",
    "featuresD = ['Sex_F', 'Sex_M', 'Event_BD', 'Event_D', 'Event_SBD', 'Event_SD', 'Equip_Multi-ply', 'Equip_Raw', 'Equip_Single-ply', 'Equip_Straps', 'Equip_Unlimited', 'Equip_Wraps', 'Age', 'BodyweightKg', 'Tested']\n",
    "XS = squatdata.loc [:, featuresS]\n",
    "XB = benchdata.loc [:, featuresB]\n",
    "XD = deadliftdata.loc [:, featuresD]\n",
    "yS = squatdata.loc [:, 'Best3SquatKg']\n",
    "yB = benchdata.loc [:, 'Best3BenchKg']\n",
    "yD = deadliftdata.loc [:, 'Best3DeadliftKg']\n",
    "\n",
    "# Splitting data into 3 seperate train/test sets\n",
    "XS_train, XS_test, yS_train, yS_test = train_test_split(XS, yS, train_size = .8, random_state = 5)\n",
    "XB_train, XB_test, yB_train, yB_test = train_test_split(XB, yB, train_size = .8, random_state = 5)\n",
    "XD_train, XD_test, yD_train, yD_test = train_test_split(XD, yD, train_size = .8, random_state = 5)"
   ]
  },
  {
   "cell_type": "code",
   "execution_count": null,
   "id": "6323c1f0",
   "metadata": {},
   "outputs": [],
   "source": [
    "regS = RandomForestRegressor(max_depth = 10, random_state = 5)\n",
    "regB = RandomForestRegressor(max_depth = 10, random_state = 5)\n",
    "regD = RandomForestRegressor(max_depth = 10, random_state = 5)"
   ]
  },
  {
   "cell_type": "code",
   "execution_count": null,
   "id": "800ee7ff",
   "metadata": {},
   "outputs": [],
   "source": [
    "# Training the models... My poor CPU :(\n",
    "\n",
    "RFS = regS.fit(XS_train, yS_train)\n",
    "RFB = regB.fit(XB_train, yB_train)\n",
    "RFD = regD.fit(XD_train, yD_train)"
   ]
  },
  {
   "cell_type": "code",
   "execution_count": null,
   "id": "bcb9bc73",
   "metadata": {},
   "outputs": [],
   "source": [
    "print(RFS.score(XS_test, yS_test))\n",
    "print(RFB.score(XB_test, yB_test))\n",
    "print(RFD.score(XD_test, yD_test))"
   ]
  },
  {
   "cell_type": "markdown",
   "id": "cdabfceb",
   "metadata": {},
   "source": [
    "# Score\n",
    "- At depth 10 it fits surprisingly well in all 3 models. I will attempt to tune the hyperparameter, but bearing in mind that I will only go up to depth 15 because otherwise my computer may explode. "
   ]
  },
  {
   "cell_type": "code",
   "execution_count": null,
   "id": "add77c9f",
   "metadata": {},
   "outputs": [],
   "source": [
    "max_depth_range = list(range(1, 15))\n",
    "# List to store the average RMSE for each value of max_depth:\n",
    "r2_list = []\n",
    "for depth in max_depth_range:\n",
    "    regS = RandomForestRegressor(max_depth = depth,\n",
    "                            random_state = 0)\n",
    "    regS.fit(XS_train, yS_train)   \n",
    "    \n",
    "    score = regS.score(XS_test, yS_test)\n",
    "    r2_list.append(score)"
   ]
  },
  {
   "cell_type": "code",
   "execution_count": null,
   "id": "dffaf268",
   "metadata": {},
   "outputs": [],
   "source": [
    "fig, ax = plt.subplots(nrows = 1, ncols = 1,\n",
    "                       figsize = (10,7),\n",
    "                       facecolor = 'white');\n",
    "ax.plot(max_depth_range,\n",
    "       r2_list,\n",
    "       lw=2,\n",
    "       color='r')\n",
    "ax.set_xlim([1, max(max_depth_range)])\n",
    "ax.grid(True,\n",
    "       axis = 'both',\n",
    "       zorder = 0,\n",
    "       linestyle = ':',\n",
    "       color = 'k')\n",
    "ax.tick_params(labelsize = 18)\n",
    "ax.set_xlabel('max_depth', fontsize = 24)\n",
    "ax.set_ylabel('R^2', fontsize = 24)\n",
    "ax.set_title('Model Performance on Test Set', fontsize = 24)\n",
    "fig.tight_layout()"
   ]
  },
  {
   "cell_type": "markdown",
   "id": "abac1288",
   "metadata": {},
   "source": [
    "- I'll call it a lucky guess, but based on the graphic above a max depth of 10 does not seem unreasonable for the model. "
   ]
  },
  {
   "cell_type": "code",
   "execution_count": null,
   "id": "8c55a003",
   "metadata": {},
   "outputs": [],
   "source": [
    "max_depth_range = list(range(1, 15))\n",
    "# List to store the average RMSE for each value of max_depth:\n",
    "r2_list = []\n",
    "for depth in max_depth_range:\n",
    "    regB = RandomForestRegressor(max_depth = depth,\n",
    "                            random_state = 0)\n",
    "    regB.fit(XB_train, yB_train)   \n",
    "    \n",
    "    score = regB.score(XB_test, yB_test)\n",
    "    r2_list.append(score)"
   ]
  },
  {
   "cell_type": "code",
   "execution_count": null,
   "id": "a2d353ed",
   "metadata": {},
   "outputs": [],
   "source": [
    "fig, ax = plt.subplots(nrows = 1, ncols = 1,\n",
    "                       figsize = (10,7),\n",
    "                       facecolor = 'white');\n",
    "ax.plot(max_depth_range,\n",
    "       r2_list,\n",
    "       lw=2,\n",
    "       color='r')\n",
    "ax.set_xlim([1, max(max_depth_range)])\n",
    "ax.grid(True,\n",
    "       axis = 'both',\n",
    "       zorder = 0,\n",
    "       linestyle = ':',\n",
    "       color = 'k')\n",
    "ax.tick_params(labelsize = 18)\n",
    "ax.set_xlabel('max_depth', fontsize = 24)\n",
    "ax.set_ylabel('R^2', fontsize = 24)\n",
    "ax.set_title('Model Performance on Test Set', fontsize = 24)\n",
    "fig.tight_layout()"
   ]
  },
  {
   "cell_type": "code",
   "execution_count": null,
   "id": "21ccf4a1",
   "metadata": {},
   "outputs": [],
   "source": [
    "max_depth_range = list(range(1, 15))\n",
    "# List to store the average RMSE for each value of max_depth:\n",
    "r2_list = []\n",
    "for depth in max_depth_range:\n",
    "    regD = RandomForestRegressor(max_depth = depth,\n",
    "                            random_state = 0)\n",
    "    regD.fit(XD_train, yD_train)   \n",
    "    \n",
    "    score = regD.score(XD_test, yD_test)\n",
    "    r2_list.append(score)"
   ]
  },
  {
   "cell_type": "code",
   "execution_count": null,
   "id": "13616d84",
   "metadata": {},
   "outputs": [],
   "source": [
    "fig, ax = plt.subplots(nrows = 1, ncols = 1,\n",
    "                       figsize = (10,7),\n",
    "                       facecolor = 'white');\n",
    "ax.plot(max_depth_range,\n",
    "       r2_list,\n",
    "       lw=2,\n",
    "       color='r')\n",
    "ax.set_xlim([1, max(max_depth_range)])\n",
    "ax.grid(True,\n",
    "       axis = 'both',\n",
    "       zorder = 0,\n",
    "       linestyle = ':',\n",
    "       color = 'k')\n",
    "ax.tick_params(labelsize = 18)\n",
    "ax.set_xlabel('max_depth', fontsize = 24)\n",
    "ax.set_ylabel('R^2', fontsize = 24)\n",
    "ax.set_title('Model Performance on Test Set', fontsize = 24)\n",
    "fig.tight_layout()"
   ]
  },
  {
   "cell_type": "markdown",
   "id": "6e501c18",
   "metadata": {},
   "source": [
    "Overall, for all models, a depth of 10 seems reasonable."
   ]
  },
  {
   "cell_type": "code",
   "execution_count": null,
   "id": "3a131a28",
   "metadata": {},
   "outputs": [],
   "source": [
    "# Graph predicted on original data\n",
    "ypredS = RFS.predict(XS_test)\n",
    "ypredB = RFB.predict(XB_test)\n",
    "ypredD = RFD.predict(XD_test)"
   ]
  },
  {
   "cell_type": "code",
   "execution_count": null,
   "id": "61bf2fea",
   "metadata": {},
   "outputs": [],
   "source": [
    "x_ax = range(len(yS_test))\n",
    "plt.plot(x_ax, yS_test, label=\"original\")\n",
    "plt.plot(x_ax, ypredS, label=\"predicted\")\n",
    "plt.title(\"Squat test and predicted data\")\n",
    "plt.xlabel('X-axis')\n",
    "plt.ylabel('Y-axis')\n",
    "plt.legend(loc='best',fancybox=True, shadow=True)\n",
    "plt.grid(True)\n",
    "plt.show()"
   ]
  },
  {
   "cell_type": "code",
   "execution_count": null,
   "id": "5efd0d4e",
   "metadata": {},
   "outputs": [],
   "source": [
    "x_ax = range(len(yB_test))\n",
    "plt.plot(x_ax, yB_test, label=\"original\")\n",
    "plt.plot(x_ax, ypredB, label=\"predicted\")\n",
    "plt.title(\"Bench test and predicted data\")\n",
    "plt.xlabel('X-axis')\n",
    "plt.ylabel('Y-axis')\n",
    "plt.legend(loc='best',fancybox=True, shadow=True)\n",
    "plt.grid(True)\n",
    "plt.show()"
   ]
  },
  {
   "cell_type": "code",
   "execution_count": null,
   "id": "6ceec21f",
   "metadata": {},
   "outputs": [],
   "source": [
    "x_ax = range(len(yD_test))\n",
    "plt.plot(x_ax, yD_test, label=\"original\")\n",
    "plt.plot(x_ax, ypredD, label=\"predicted\")\n",
    "plt.title(\"Deadlift test and predicted data\")\n",
    "plt.xlabel('X-axis')\n",
    "plt.ylabel('Y-axis')\n",
    "plt.legend(loc='best',fancybox=True, shadow=True)\n",
    "plt.grid(True)\n",
    "plt.show()"
   ]
  },
  {
   "cell_type": "markdown",
   "id": "ee6c76a5",
   "metadata": {},
   "source": [
    "# Results\n",
    "- Overall, all 3 random forest models fit significantly better than the multiple linear regression models. \n",
    "    - This was expected due to the multicollinearity that existed previously.\n",
    "        - Visualizations are shown above and will not be redrawn to avoid clutter.\n",
    "- As shown above, multiple iterations were attempted, features dropped as needed, and some features engineered to be more useful or usable in the case of the Random Forest Models\n",
    "    - The final set of features were (Sex + Event + Equipment + Age + BodyweightKg + Tested) for a total of 6 features, which is down significantly from the 41 (38 not including test variables) features initially.\n",
    "    - I got fairly lucky in guessing that a max depth of 10 for the RF models would be good, but I was able to confirm it and so did not have to tune my hyperparameter.\n",
    "- Linear regression models\n",
    "    - $R^2$ Values:\n",
    "        - Squats: 0.595\n",
    "        - Bench: 0.650\n",
    "        - Deadlift: 0.587\n",
    "- Random Forest models\n",
    "    - $R^2$ Values:\n",
    "        - Squats: 0.683\n",
    "        - Bench: 0.745\n",
    "        - Deadlift: 0.690\n",
    "\n",
    "- Looking at the random forest graphs of predicted vs original, all 3 predictions appear to be more centered than the actual data. This might have something to do with failed lifts being counted as 0. \n",
    "    - A weird difference between Deadlifts and the other 2 is that the predictions appear to cap around 300. This could happen due to it trying to average in 0 values and deadlifts are typically a much higher weighted lift than the other two lifts."
   ]
  },
  {
   "cell_type": "markdown",
   "id": "a566a1c7",
   "metadata": {},
   "source": [
    "# Conclusion\n",
    "- The random forest models are the better models for use in predicting powerlifting results for any of the 3 major lifts as they fit the test data significantly better.\n",
    "- Overall, in this project I learned how to use linear regression models to identify features that could be removed due to insignificance before creating a random forest model, and also a ton of different useful tricks + plots in Python.\n",
    "    - An area of potential improvement for this model and this project is that the dataset is lacking a true classifier for the lifters. Lifters are broken into divisions, but there are far too many to be useful. It would be very helpful if lifters were classified based on their lifting experience. \n",
    "        - Personally, I am surprised that the random forest model has an $R^2$ close to 0.7 as I would expect it to be fairly difficult to predict powerlifting results. I know personally in the last year my numbers have changed drastically, but my weight has only slightly increased. \n",
    "- It would be really interesting to apply these models to another dataset and see if the numbers are still close."
   ]
  }
 ],
 "metadata": {
  "hide_input": false,
  "kernelspec": {
   "display_name": "Python 3 (ipykernel)",
   "language": "python",
   "name": "python3"
  },
  "language_info": {
   "codemirror_mode": {
    "name": "ipython",
    "version": 3
   },
   "file_extension": ".py",
   "mimetype": "text/x-python",
   "name": "python",
   "nbconvert_exporter": "python",
   "pygments_lexer": "ipython3",
   "version": "3.9.13"
  }
 },
 "nbformat": 4,
 "nbformat_minor": 5
}
